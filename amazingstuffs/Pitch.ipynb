{
 "cells": [
  {
   "cell_type": "markdown",
   "metadata": {
    "ExecuteTime": {
     "end_time": "2020-08-20T12:18:43.237873Z",
     "start_time": "2020-08-20T12:18:43.230588Z"
    },
    "slideshow": {
     "slide_type": "slide"
    }
   },
   "source": [
    "# OSIC Pulmonary Fibrosis Progression Challenge"
   ]
  },
  {
   "cell_type": "markdown",
   "metadata": {
    "slideshow": {
     "slide_type": "subslide"
    }
   },
   "source": [
    "## Pulmonary Fibrosis"
   ]
  },
  {
   "cell_type": "markdown",
   "metadata": {
    "ExecuteTime": {
     "end_time": "2020-08-20T12:44:40.280016Z",
     "start_time": "2020-08-20T12:44:40.265461Z"
    },
    "slideshow": {
     "slide_type": "-"
    }
   },
   "source": [
    "![IPF](https://www.pulmonaryfibrosis.org/images/default-source/default-album/normal-and-impaired-gas-exchange.png?sfvrsn=c3b0918d_0)"
   ]
  },
  {
   "cell_type": "markdown",
   "metadata": {
    "slideshow": {
     "slide_type": "subslide"
    }
   },
   "source": [
    "### Facts\n",
    "- Estimated ~5 million people are effected worldwide\n",
    "- Symptoms: \n",
    "    - Shortness of breath\n",
    "    - Dry cough\n",
    "    - Fatigue\n",
    "    - Unexplained weight loss\n",
    "    - Aching muscles and joints\n",
    "    - Widening and rounding of the tips of the fingers or toes (clubbing)\n",
    "- Life expectancy after diagnosis varies between a few to more than 10 years\n",
    "- No cure, only treatment"
   ]
  },
  {
   "cell_type": "markdown",
   "metadata": {
    "slideshow": {
     "slide_type": "subslide"
    }
   },
   "source": [
    "## Diagnosis & Problem\n",
    "\n",
    "Diagnosis usually by:\n",
    " - Biopsy\n",
    " - Computer Tomography\n",
    " \n",
    "Afterward:\n",
    " - weekly/biweekly checkups to track progression"
   ]
  },
  {
   "cell_type": "markdown",
   "metadata": {
    "heading_collapsed": true,
    "slideshow": {
     "slide_type": "fragment"
    }
   },
   "source": [
    "### Problem:\n",
    "\n",
    "- Once diagnosed the progression (i.e worsening of symptoms, decline in lung capacity and quality of life) is highly heterogenic (i.e. varies greatly between patients)"
   ]
  },
  {
   "cell_type": "markdown",
   "metadata": {
    "slideshow": {
     "slide_type": "subslide"
    }
   },
   "source": [
    "## The Data\n",
    "\n",
    "**Training Data:**\n",
    "\n",
    "For each patient:"
   ]
  },
  {
   "cell_type": "markdown",
   "metadata": {
    "slideshow": {
     "slide_type": "fragment"
    }
   },
   "source": [
    "- 3D Computer Tomography Scan of the chest"
   ]
  },
  {
   "cell_type": "markdown",
   "metadata": {
    "slideshow": {
     "slide_type": "fragment"
    }
   },
   "source": [
    "![CT](https://drkonya.com/projects/kaggle/fibrosis_6.png)"
   ]
  },
  {
   "cell_type": "markdown",
   "metadata": {
    "slideshow": {
     "slide_type": "subslide"
    }
   },
   "source": [
    "- Demographic data:\n",
    "    - Age\n",
    "    - Sex\n",
    "    - Height\n",
    "    - Smoker status"
   ]
  },
  {
   "cell_type": "markdown",
   "metadata": {
    "slideshow": {
     "slide_type": "fragment"
    }
   },
   "source": [
    "- Time Series:\n",
    "    - FVC (Forced Vital Capacity = measure of lung capacity in ml) value **every two weeks since diagnosis for two years**"
   ]
  },
  {
   "cell_type": "markdown",
   "metadata": {
    "slideshow": {
     "slide_type": "fragment"
    }
   },
   "source": [
    "**Test / Scoring Data**\n",
    "\n",
    "Same as above, but **only initial FVC value** at diagnosis\n"
   ]
  },
  {
   "cell_type": "markdown",
   "metadata": {
    "ExecuteTime": {
     "end_time": "2020-08-20T13:04:31.788001Z",
     "start_time": "2020-08-20T13:04:31.779571Z"
    },
    "slideshow": {
     "slide_type": "fragment"
    }
   },
   "source": [
    "**GOAL**\n",
    "\n",
    "- Predict rest of FVC values for those patients (i.e. for the rest of the two year span since diagnosis)"
   ]
  },
  {
   "cell_type": "markdown",
   "metadata": {
    "slideshow": {
     "slide_type": "subslide"
    }
   },
   "source": [
    "## Approach\n",
    "\n",
    "**Core Model:**\n",
    "\n",
    "- Autoregressor "
   ]
  },
  {
   "cell_type": "markdown",
   "metadata": {
    "ExecuteTime": {
     "end_time": "2020-08-20T12:24:11.817233Z",
     "start_time": "2020-08-20T12:24:11.809316Z"
    },
    "slideshow": {
     "slide_type": "fragment"
    }
   },
   "source": [
    "**Where the Magic happens**\n",
    "\n",
    "- Feature Engineering on the CT Scans\n",
    "    - Lung Volume\n",
    "    - Amount of scar tissue\n",
    "    - Distribution of scaring\n",
    "    - ..."
   ]
  },
  {
   "cell_type": "markdown",
   "metadata": {
    "slideshow": {
     "slide_type": "fragment"
    }
   },
   "source": [
    "**Additionally**\n",
    "- Possibility to use Machine Learning / Deep Learning Methods for Feature Extraction"
   ]
  },
  {
   "cell_type": "markdown",
   "metadata": {
    "slideshow": {
     "slide_type": "subslide"
    }
   },
   "source": [
    "## Why is this amazing?\n",
    "\n",
    "- really interesting problem and data\n",
    "- ongoing challenge -> lively discussion about the problem on kaggle\n",
    "- possibility to submit results to kaggle (and maybe win?)\n",
    "- actual real world data and problem -> results may have an impact\n",
    "\n"
   ]
  },
  {
   "cell_type": "markdown",
   "metadata": {
    "slideshow": {
     "slide_type": "fragment"
    }
   },
   "source": [
    "### The Caveat\n",
    "\n",
    "- Time-Series data!!! \n",
    "- Deep dive into medical domain\n",
    "- Fairly complex problem\n",
    "- Results might not be great"
   ]
  },
  {
   "cell_type": "markdown",
   "metadata": {
    "ExecuteTime": {
     "end_time": "2020-08-20T12:34:54.427175Z",
     "start_time": "2020-08-20T12:34:54.418214Z"
    },
    "slideshow": {
     "slide_type": "subslide"
    }
   },
   "source": [
    "![mittens](https://rlv.zcache.com/there_are_a_lot_of_reasons_not_to_vote_for_me_poster-rf60f4c6faf7f4260a93baa52b5c201eb_wvo_8byvr_512.jpg)"
   ]
  }
 ],
 "metadata": {
  "celltoolbar": "Slideshow",
  "kernelspec": {
   "display_name": "Python 3",
   "language": "python",
   "name": "python3"
  },
  "language_info": {
   "codemirror_mode": {
    "name": "ipython",
    "version": 3
   },
   "file_extension": ".py",
   "mimetype": "text/x-python",
   "name": "python",
   "nbconvert_exporter": "python",
   "pygments_lexer": "ipython3",
   "version": "3.7.7"
  },
  "toc": {
   "base_numbering": 1,
   "nav_menu": {},
   "number_sections": true,
   "sideBar": true,
   "skip_h1_title": false,
   "title_cell": "Table of Contents",
   "title_sidebar": "Contents",
   "toc_cell": false,
   "toc_position": {},
   "toc_section_display": true,
   "toc_window_display": false
  },
  "varInspector": {
   "cols": {
    "lenName": 16,
    "lenType": 16,
    "lenVar": 40
   },
   "kernels_config": {
    "python": {
     "delete_cmd_postfix": "",
     "delete_cmd_prefix": "del ",
     "library": "var_list.py",
     "varRefreshCmd": "print(var_dic_list())"
    },
    "r": {
     "delete_cmd_postfix": ") ",
     "delete_cmd_prefix": "rm(",
     "library": "var_list.r",
     "varRefreshCmd": "cat(var_dic_list()) "
    }
   },
   "types_to_exclude": [
    "module",
    "function",
    "builtin_function_or_method",
    "instance",
    "_Feature"
   ],
   "window_display": false
  }
 },
 "nbformat": 4,
 "nbformat_minor": 4
}
